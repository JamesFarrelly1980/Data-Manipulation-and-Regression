{
 "cells": [
  {
   "cell_type": "markdown",
   "metadata": {},
   "source": [
    "# Two Variable Linear Regression\n",
    "\n",
    "## Overview\n",
    "\n",
    "In this notebook I will be taking the data from two excel file \"Simple one year academic data\"  both AS and A2 and creating a data frame using the pandas library. I have deliberately split an excel sheet into two seperate files to explore putting them back together in python.  \n",
    "\n",
    "As an academic exercise I will also be creating an SQL relation database with two \"pages\" and using the Student Id as a relational tag.\n",
    "\n",
    "The data will be saved in the github so you can reproduce the results by changing the file name to a URL\n",
    "\n",
    "After combining the data some basic analysis will be completed demonstrating several graph types.\n",
    "\n",
    "Then a simple linear regression model will be run, splitting the data into learning and testing data.\n",
    "\n",
    "\n"
   ]
  },
  {
   "cell_type": "markdown",
   "metadata": {},
   "source": [
    "## Step one: Load and clean\n",
    "\n",
    "Load the data from the excel file and create two data frames \"dfAS\" and \"dfA2\" for the AS and A2 results.\n",
    "\n",
    "### Tips and tricks:\n",
    "\n",
    "Don't forget the file extension (i.e. .xlsx)\n",
    "\n",
    "Also, for literal pathways sometimes you need a letter 'r' before the path"
   ]
  },
  {
   "cell_type": "code",
   "execution_count": 1,
   "metadata": {},
   "outputs": [
    {
     "data": {
      "text/html": [
       "<div>\n",
       "<style scoped>\n",
       "    .dataframe tbody tr th:only-of-type {\n",
       "        vertical-align: middle;\n",
       "    }\n",
       "\n",
       "    .dataframe tbody tr th {\n",
       "        vertical-align: top;\n",
       "    }\n",
       "\n",
       "    .dataframe thead th {\n",
       "        text-align: right;\n",
       "    }\n",
       "</style>\n",
       "<table border=\"1\" class=\"dataframe\">\n",
       "  <thead>\n",
       "    <tr style=\"text-align: right;\">\n",
       "      <th></th>\n",
       "      <th>Student Id</th>\n",
       "      <th>A2 Values</th>\n",
       "    </tr>\n",
       "  </thead>\n",
       "  <tbody>\n",
       "    <tr>\n",
       "      <th>0</th>\n",
       "      <td>2598</td>\n",
       "      <td>589</td>\n",
       "    </tr>\n",
       "    <tr>\n",
       "      <th>1</th>\n",
       "      <td>2544</td>\n",
       "      <td>573</td>\n",
       "    </tr>\n",
       "    <tr>\n",
       "      <th>2</th>\n",
       "      <td>2592</td>\n",
       "      <td>573</td>\n",
       "    </tr>\n",
       "    <tr>\n",
       "      <th>3</th>\n",
       "      <td>2619</td>\n",
       "      <td>570</td>\n",
       "    </tr>\n",
       "    <tr>\n",
       "      <th>4</th>\n",
       "      <td>2582</td>\n",
       "      <td>565</td>\n",
       "    </tr>\n",
       "  </tbody>\n",
       "</table>\n",
       "</div>"
      ],
      "text/plain": [
       "   Student Id  A2 Values\n",
       "0        2598        589\n",
       "1        2544        573\n",
       "2        2592        573\n",
       "3        2619        570\n",
       "4        2582        565"
      ]
     },
     "execution_count": 1,
     "metadata": {},
     "output_type": "execute_result"
    }
   ],
   "source": [
    "#this will keep all our graphs in the page\n",
    "%matplotlib inline\n",
    "# a few libraries that we will need\n",
    "\n",
    "import numpy as np # imports a fast numerical programming library\n",
    "import scipy as sp #imports stats functions, amongst other things\n",
    "import matplotlib as mpl # this actually imports matplotlib\n",
    "import matplotlib.cm as cm #allows us easy access to colormaps\n",
    "import matplotlib.pyplot as plt #sets up plotting under plt\n",
    "import pandas as pd #lets us handle data as dataframes\n",
    "#sets up pandas table display\n",
    "pd.set_option('display.width', 500)\n",
    "pd.set_option('display.max_columns', 100)\n",
    "pd.set_option('display.notebook_repr_html', True)\n",
    "import seaborn as sns #sets up styles and gives us more plotting options\n",
    "\n",
    "\n",
    "\n",
    "\n",
    "# We need this library to read excel workbooks\n",
    "import openpyxl \n",
    "#this allows you to open older versions of excel\n",
    "import xlrd\n",
    "\n",
    "# This should take the first sheet and use the first row as header and create a data frame\n",
    "excel_file_as = (r\"C:\\Users\\Mrs Farrelly\\Documents\\Academic data\\Simple one year academic data AS results.xlsx\")\n",
    "df_file_as = pd.read_excel(excel_file_as, sheet_name = 0, header = 0)\n",
    "\n",
    "\n",
    "excel_file_a2 = (r\"C:\\Users\\Mrs Farrelly\\Documents\\Academic data\\Simple one year academic data A2 results.xlsx\")\n",
    "df_file_a2 = pd.read_excel(excel_file_a2, sheet_name = 0, header = 0)\n",
    "\n",
    "#Lets have a look at the first 5 rows and see if it worked\n",
    "df_file_a2.head()"
   ]
  },
  {
   "cell_type": "code",
   "execution_count": 2,
   "metadata": {},
   "outputs": [
    {
     "data": {
      "text/html": [
       "<div>\n",
       "<style scoped>\n",
       "    .dataframe tbody tr th:only-of-type {\n",
       "        vertical-align: middle;\n",
       "    }\n",
       "\n",
       "    .dataframe tbody tr th {\n",
       "        vertical-align: top;\n",
       "    }\n",
       "\n",
       "    .dataframe thead th {\n",
       "        text-align: right;\n",
       "    }\n",
       "</style>\n",
       "<table border=\"1\" class=\"dataframe\">\n",
       "  <thead>\n",
       "    <tr style=\"text-align: right;\">\n",
       "      <th></th>\n",
       "      <th>Student Id</th>\n",
       "      <th>AS Values</th>\n",
       "    </tr>\n",
       "  </thead>\n",
       "  <tbody>\n",
       "    <tr>\n",
       "      <th>0</th>\n",
       "      <td>2598</td>\n",
       "      <td>294</td>\n",
       "    </tr>\n",
       "    <tr>\n",
       "      <th>1</th>\n",
       "      <td>2544</td>\n",
       "      <td>295</td>\n",
       "    </tr>\n",
       "    <tr>\n",
       "      <th>2</th>\n",
       "      <td>2592</td>\n",
       "      <td>287</td>\n",
       "    </tr>\n",
       "    <tr>\n",
       "      <th>3</th>\n",
       "      <td>2619</td>\n",
       "      <td>278</td>\n",
       "    </tr>\n",
       "    <tr>\n",
       "      <th>4</th>\n",
       "      <td>2582</td>\n",
       "      <td>296</td>\n",
       "    </tr>\n",
       "  </tbody>\n",
       "</table>\n",
       "</div>"
      ],
      "text/plain": [
       "   Student Id  AS Values\n",
       "0        2598        294\n",
       "1        2544        295\n",
       "2        2592        287\n",
       "3        2619        278\n",
       "4        2582        296"
      ]
     },
     "execution_count": 2,
     "metadata": {},
     "output_type": "execute_result"
    }
   ],
   "source": [
    "df_file_as.head()"
   ]
  },
  {
   "cell_type": "markdown",
   "metadata": {},
   "source": [
    "Now lets have a look at the data to make sure there aren't any missing values, unexpected 0's etc"
   ]
  },
  {
   "cell_type": "code",
   "execution_count": 3,
   "metadata": {},
   "outputs": [
    {
     "name": "stdout",
     "output_type": "stream",
     "text": [
      "Student Id    int64\n",
      "AS Values     int64\n",
      "dtype: object\n"
     ]
    }
   ],
   "source": [
    "print (df_file_as.dtypes)\n"
   ]
  },
  {
   "cell_type": "code",
   "execution_count": 4,
   "metadata": {},
   "outputs": [
    {
     "data": {
      "text/html": [
       "<div>\n",
       "<style scoped>\n",
       "    .dataframe tbody tr th:only-of-type {\n",
       "        vertical-align: middle;\n",
       "    }\n",
       "\n",
       "    .dataframe tbody tr th {\n",
       "        vertical-align: top;\n",
       "    }\n",
       "\n",
       "    .dataframe thead th {\n",
       "        text-align: right;\n",
       "    }\n",
       "</style>\n",
       "<table border=\"1\" class=\"dataframe\">\n",
       "  <thead>\n",
       "    <tr style=\"text-align: right;\">\n",
       "      <th></th>\n",
       "      <th>Student Id</th>\n",
       "      <th>AS Values</th>\n",
       "    </tr>\n",
       "  </thead>\n",
       "  <tbody>\n",
       "    <tr>\n",
       "      <th>count</th>\n",
       "      <td>72.000000</td>\n",
       "      <td>72.000000</td>\n",
       "    </tr>\n",
       "    <tr>\n",
       "      <th>mean</th>\n",
       "      <td>2547.819444</td>\n",
       "      <td>234.375000</td>\n",
       "    </tr>\n",
       "    <tr>\n",
       "      <th>std</th>\n",
       "      <td>151.254969</td>\n",
       "      <td>49.195625</td>\n",
       "    </tr>\n",
       "    <tr>\n",
       "      <th>min</th>\n",
       "      <td>2409.000000</td>\n",
       "      <td>0.000000</td>\n",
       "    </tr>\n",
       "    <tr>\n",
       "      <th>25%</th>\n",
       "      <td>2484.250000</td>\n",
       "      <td>207.500000</td>\n",
       "    </tr>\n",
       "    <tr>\n",
       "      <th>50%</th>\n",
       "      <td>2540.500000</td>\n",
       "      <td>243.000000</td>\n",
       "    </tr>\n",
       "    <tr>\n",
       "      <th>75%</th>\n",
       "      <td>2581.250000</td>\n",
       "      <td>271.750000</td>\n",
       "    </tr>\n",
       "    <tr>\n",
       "      <th>max</th>\n",
       "      <td>3714.000000</td>\n",
       "      <td>296.000000</td>\n",
       "    </tr>\n",
       "  </tbody>\n",
       "</table>\n",
       "</div>"
      ],
      "text/plain": [
       "        Student Id   AS Values\n",
       "count    72.000000   72.000000\n",
       "mean   2547.819444  234.375000\n",
       "std     151.254969   49.195625\n",
       "min    2409.000000    0.000000\n",
       "25%    2484.250000  207.500000\n",
       "50%    2540.500000  243.000000\n",
       "75%    2581.250000  271.750000\n",
       "max    3714.000000  296.000000"
      ]
     },
     "execution_count": 4,
     "metadata": {},
     "output_type": "execute_result"
    }
   ],
   "source": [
    "df_file_as.describe()"
   ]
  },
  {
   "cell_type": "code",
   "execution_count": 5,
   "metadata": {},
   "outputs": [
    {
     "data": {
      "text/plain": [
       "(72, 2)"
      ]
     },
     "execution_count": 5,
     "metadata": {},
     "output_type": "execute_result"
    }
   ],
   "source": [
    "df_file_as.shape"
   ]
  },
  {
   "cell_type": "markdown",
   "metadata": {},
   "source": [
    "Hmmmm, a min value of 0 either means someone had a really bad day at the office or a missing result was passed as a 0. This is also way smaller than 2 times the STD below the mean so it would certainly come out as an outlier."
   ]
  },
  {
   "cell_type": "markdown",
   "metadata": {},
   "source": [
    "Also the column names having spaces in them are going to cause syntax issues.  Lets rename them with underscores.  Notice the inplace = True changes the original data frame.  I would say usually this is not a good idea and we should create new data frames when we make changes so we can track the changes."
   ]
  },
  {
   "cell_type": "code",
   "execution_count": 6,
   "metadata": {},
   "outputs": [],
   "source": [
    "df_file_as.rename(columns = {'AS Values':'AS_Values'}, inplace = True)\n",
    "                    "
   ]
  },
  {
   "cell_type": "markdown",
   "metadata": {},
   "source": [
    "WE can see here the new column name. "
   ]
  },
  {
   "cell_type": "code",
   "execution_count": 7,
   "metadata": {},
   "outputs": [
    {
     "data": {
      "text/html": [
       "<div>\n",
       "<style scoped>\n",
       "    .dataframe tbody tr th:only-of-type {\n",
       "        vertical-align: middle;\n",
       "    }\n",
       "\n",
       "    .dataframe tbody tr th {\n",
       "        vertical-align: top;\n",
       "    }\n",
       "\n",
       "    .dataframe thead th {\n",
       "        text-align: right;\n",
       "    }\n",
       "</style>\n",
       "<table border=\"1\" class=\"dataframe\">\n",
       "  <thead>\n",
       "    <tr style=\"text-align: right;\">\n",
       "      <th></th>\n",
       "      <th>Student Id</th>\n",
       "      <th>AS_Values</th>\n",
       "    </tr>\n",
       "  </thead>\n",
       "  <tbody>\n",
       "    <tr>\n",
       "      <th>0</th>\n",
       "      <td>2598</td>\n",
       "      <td>294</td>\n",
       "    </tr>\n",
       "    <tr>\n",
       "      <th>1</th>\n",
       "      <td>2544</td>\n",
       "      <td>295</td>\n",
       "    </tr>\n",
       "    <tr>\n",
       "      <th>2</th>\n",
       "      <td>2592</td>\n",
       "      <td>287</td>\n",
       "    </tr>\n",
       "    <tr>\n",
       "      <th>3</th>\n",
       "      <td>2619</td>\n",
       "      <td>278</td>\n",
       "    </tr>\n",
       "    <tr>\n",
       "      <th>4</th>\n",
       "      <td>2582</td>\n",
       "      <td>296</td>\n",
       "    </tr>\n",
       "  </tbody>\n",
       "</table>\n",
       "</div>"
      ],
      "text/plain": [
       "   Student Id  AS_Values\n",
       "0        2598        294\n",
       "1        2544        295\n",
       "2        2592        287\n",
       "3        2619        278\n",
       "4        2582        296"
      ]
     },
     "execution_count": 7,
     "metadata": {},
     "output_type": "execute_result"
    }
   ],
   "source": [
    "df_file_as.head()"
   ]
  },
  {
   "cell_type": "markdown",
   "metadata": {},
   "source": [
    "Lets change the Student Id as well but this time lets create a new data frame"
   ]
  },
  {
   "cell_type": "code",
   "execution_count": 8,
   "metadata": {},
   "outputs": [],
   "source": [
    "df_as_new = df_file_as.rename(columns = {'Student Id':'Student_Id'})"
   ]
  },
  {
   "cell_type": "code",
   "execution_count": 9,
   "metadata": {},
   "outputs": [
    {
     "data": {
      "text/html": [
       "<div>\n",
       "<style scoped>\n",
       "    .dataframe tbody tr th:only-of-type {\n",
       "        vertical-align: middle;\n",
       "    }\n",
       "\n",
       "    .dataframe tbody tr th {\n",
       "        vertical-align: top;\n",
       "    }\n",
       "\n",
       "    .dataframe thead th {\n",
       "        text-align: right;\n",
       "    }\n",
       "</style>\n",
       "<table border=\"1\" class=\"dataframe\">\n",
       "  <thead>\n",
       "    <tr style=\"text-align: right;\">\n",
       "      <th></th>\n",
       "      <th>Student_Id</th>\n",
       "      <th>AS_Values</th>\n",
       "    </tr>\n",
       "  </thead>\n",
       "  <tbody>\n",
       "    <tr>\n",
       "      <th>0</th>\n",
       "      <td>2598</td>\n",
       "      <td>294</td>\n",
       "    </tr>\n",
       "    <tr>\n",
       "      <th>1</th>\n",
       "      <td>2544</td>\n",
       "      <td>295</td>\n",
       "    </tr>\n",
       "    <tr>\n",
       "      <th>2</th>\n",
       "      <td>2592</td>\n",
       "      <td>287</td>\n",
       "    </tr>\n",
       "    <tr>\n",
       "      <th>3</th>\n",
       "      <td>2619</td>\n",
       "      <td>278</td>\n",
       "    </tr>\n",
       "    <tr>\n",
       "      <th>4</th>\n",
       "      <td>2582</td>\n",
       "      <td>296</td>\n",
       "    </tr>\n",
       "  </tbody>\n",
       "</table>\n",
       "</div>"
      ],
      "text/plain": [
       "   Student_Id  AS_Values\n",
       "0        2598        294\n",
       "1        2544        295\n",
       "2        2592        287\n",
       "3        2619        278\n",
       "4        2582        296"
      ]
     },
     "execution_count": 9,
     "metadata": {},
     "output_type": "execute_result"
    }
   ],
   "source": [
    "df_as_new.head()"
   ]
  },
  {
   "cell_type": "markdown",
   "metadata": {},
   "source": [
    "Now lets go and change the A2 headers in the same way"
   ]
  },
  {
   "cell_type": "code",
   "execution_count": 10,
   "metadata": {},
   "outputs": [
    {
     "data": {
      "text/html": [
       "<div>\n",
       "<style scoped>\n",
       "    .dataframe tbody tr th:only-of-type {\n",
       "        vertical-align: middle;\n",
       "    }\n",
       "\n",
       "    .dataframe tbody tr th {\n",
       "        vertical-align: top;\n",
       "    }\n",
       "\n",
       "    .dataframe thead th {\n",
       "        text-align: right;\n",
       "    }\n",
       "</style>\n",
       "<table border=\"1\" class=\"dataframe\">\n",
       "  <thead>\n",
       "    <tr style=\"text-align: right;\">\n",
       "      <th></th>\n",
       "      <th>Student_Id</th>\n",
       "      <th>A2_Values</th>\n",
       "    </tr>\n",
       "  </thead>\n",
       "  <tbody>\n",
       "    <tr>\n",
       "      <th>0</th>\n",
       "      <td>2598</td>\n",
       "      <td>589</td>\n",
       "    </tr>\n",
       "    <tr>\n",
       "      <th>1</th>\n",
       "      <td>2544</td>\n",
       "      <td>573</td>\n",
       "    </tr>\n",
       "    <tr>\n",
       "      <th>2</th>\n",
       "      <td>2592</td>\n",
       "      <td>573</td>\n",
       "    </tr>\n",
       "    <tr>\n",
       "      <th>3</th>\n",
       "      <td>2619</td>\n",
       "      <td>570</td>\n",
       "    </tr>\n",
       "    <tr>\n",
       "      <th>4</th>\n",
       "      <td>2582</td>\n",
       "      <td>565</td>\n",
       "    </tr>\n",
       "  </tbody>\n",
       "</table>\n",
       "</div>"
      ],
      "text/plain": [
       "   Student_Id  A2_Values\n",
       "0        2598        589\n",
       "1        2544        573\n",
       "2        2592        573\n",
       "3        2619        570\n",
       "4        2582        565"
      ]
     },
     "execution_count": 10,
     "metadata": {},
     "output_type": "execute_result"
    }
   ],
   "source": [
    "df_a2_new = df_file_a2.rename(columns = {'Student Id':'Student_Id','A2 Values':'A2_Values'})\n",
    "df_a2_new.head()"
   ]
  },
  {
   "cell_type": "code",
   "execution_count": 11,
   "metadata": {},
   "outputs": [
    {
     "data": {
      "text/plain": [
       "(72, 2)"
      ]
     },
     "execution_count": 11,
     "metadata": {},
     "output_type": "execute_result"
    }
   ],
   "source": [
    "df_a2_new.shape"
   ]
  },
  {
   "cell_type": "markdown",
   "metadata": {},
   "source": [
    "Now let's go and have a look at that 0 value using the .query()"
   ]
  },
  {
   "cell_type": "code",
   "execution_count": 12,
   "metadata": {},
   "outputs": [
    {
     "data": {
      "text/html": [
       "<div>\n",
       "<style scoped>\n",
       "    .dataframe tbody tr th:only-of-type {\n",
       "        vertical-align: middle;\n",
       "    }\n",
       "\n",
       "    .dataframe tbody tr th {\n",
       "        vertical-align: top;\n",
       "    }\n",
       "\n",
       "    .dataframe thead th {\n",
       "        text-align: right;\n",
       "    }\n",
       "</style>\n",
       "<table border=\"1\" class=\"dataframe\">\n",
       "  <thead>\n",
       "    <tr style=\"text-align: right;\">\n",
       "      <th></th>\n",
       "      <th>Student_Id</th>\n",
       "      <th>AS_Values</th>\n",
       "    </tr>\n",
       "  </thead>\n",
       "  <tbody>\n",
       "    <tr>\n",
       "      <th>14</th>\n",
       "      <td>3714</td>\n",
       "      <td>0</td>\n",
       "    </tr>\n",
       "  </tbody>\n",
       "</table>\n",
       "</div>"
      ],
      "text/plain": [
       "    Student_Id  AS_Values\n",
       "14        3714          0"
      ]
     },
     "execution_count": 12,
     "metadata": {},
     "output_type": "execute_result"
    }
   ],
   "source": [
    "df_as_new.query(\"AS_Values == 0\")"
   ]
  },
  {
   "cell_type": "markdown",
   "metadata": {},
   "source": [
    "Looks like there is only \"0\" value so just getting rid of it won't cause too many problems with reducing the data size. Notice also that I've kept the name this time so I don't have to be so creative"
   ]
  },
  {
   "cell_type": "code",
   "execution_count": 13,
   "metadata": {},
   "outputs": [],
   "source": [
    "df_as_new = df_as_new.drop(df_as_new.index[14])"
   ]
  },
  {
   "cell_type": "code",
   "execution_count": 14,
   "metadata": {},
   "outputs": [
    {
     "data": {
      "text/html": [
       "<div>\n",
       "<style scoped>\n",
       "    .dataframe tbody tr th:only-of-type {\n",
       "        vertical-align: middle;\n",
       "    }\n",
       "\n",
       "    .dataframe tbody tr th {\n",
       "        vertical-align: top;\n",
       "    }\n",
       "\n",
       "    .dataframe thead th {\n",
       "        text-align: right;\n",
       "    }\n",
       "</style>\n",
       "<table border=\"1\" class=\"dataframe\">\n",
       "  <thead>\n",
       "    <tr style=\"text-align: right;\">\n",
       "      <th></th>\n",
       "      <th>Student_Id</th>\n",
       "      <th>AS_Values</th>\n",
       "    </tr>\n",
       "  </thead>\n",
       "  <tbody>\n",
       "    <tr>\n",
       "      <th>count</th>\n",
       "      <td>71.000000</td>\n",
       "      <td>71.000000</td>\n",
       "    </tr>\n",
       "    <tr>\n",
       "      <th>mean</th>\n",
       "      <td>2531.394366</td>\n",
       "      <td>237.676056</td>\n",
       "    </tr>\n",
       "    <tr>\n",
       "      <th>std</th>\n",
       "      <td>59.186263</td>\n",
       "      <td>40.730745</td>\n",
       "    </tr>\n",
       "    <tr>\n",
       "      <th>min</th>\n",
       "      <td>2409.000000</td>\n",
       "      <td>134.000000</td>\n",
       "    </tr>\n",
       "    <tr>\n",
       "      <th>25%</th>\n",
       "      <td>2483.500000</td>\n",
       "      <td>209.000000</td>\n",
       "    </tr>\n",
       "    <tr>\n",
       "      <th>50%</th>\n",
       "      <td>2537.000000</td>\n",
       "      <td>243.000000</td>\n",
       "    </tr>\n",
       "    <tr>\n",
       "      <th>75%</th>\n",
       "      <td>2580.500000</td>\n",
       "      <td>272.500000</td>\n",
       "    </tr>\n",
       "    <tr>\n",
       "      <th>max</th>\n",
       "      <td>2624.000000</td>\n",
       "      <td>296.000000</td>\n",
       "    </tr>\n",
       "  </tbody>\n",
       "</table>\n",
       "</div>"
      ],
      "text/plain": [
       "        Student_Id   AS_Values\n",
       "count    71.000000   71.000000\n",
       "mean   2531.394366  237.676056\n",
       "std      59.186263   40.730745\n",
       "min    2409.000000  134.000000\n",
       "25%    2483.500000  209.000000\n",
       "50%    2537.000000  243.000000\n",
       "75%    2580.500000  272.500000\n",
       "max    2624.000000  296.000000"
      ]
     },
     "execution_count": 14,
     "metadata": {},
     "output_type": "execute_result"
    }
   ],
   "source": [
    "df_as_new.describe()"
   ]
  },
  {
   "cell_type": "code",
   "execution_count": 15,
   "metadata": {},
   "outputs": [
    {
     "data": {
      "text/plain": [
       "(71, 2)"
      ]
     },
     "execution_count": 15,
     "metadata": {},
     "output_type": "execute_result"
    }
   ],
   "source": [
    "df_as_new.shape"
   ]
  },
  {
   "cell_type": "markdown",
   "metadata": {},
   "source": [
    "We can see that the number of columns is still 2 and the number of rows has reduced to 71.  This may create a problem when we combine our data sets so we will have to be careful to clean it up afterwards and match it using Student_Id. We can either combine at this stage or do some initial plots.  Let's go ahead and combine so we can use subplots in our comparisons."
   ]
  },
  {
   "cell_type": "markdown",
   "metadata": {},
   "source": [
    "# Step two: Combining"
   ]
  },
  {
   "cell_type": "markdown",
   "metadata": {},
   "source": [
    "So let's use a concatonate statement to combine the two dataframes.  This seems ideal because the Student_Id's are in the same order. But wait I errased AS_Values row 14 when I was cleaning the data."
   ]
  },
  {
   "cell_type": "code",
   "execution_count": 16,
   "metadata": {},
   "outputs": [
    {
     "data": {
      "text/html": [
       "<div>\n",
       "<style scoped>\n",
       "    .dataframe tbody tr th:only-of-type {\n",
       "        vertical-align: middle;\n",
       "    }\n",
       "\n",
       "    .dataframe tbody tr th {\n",
       "        vertical-align: top;\n",
       "    }\n",
       "\n",
       "    .dataframe thead th {\n",
       "        text-align: right;\n",
       "    }\n",
       "</style>\n",
       "<table border=\"1\" class=\"dataframe\">\n",
       "  <thead>\n",
       "    <tr style=\"text-align: right;\">\n",
       "      <th></th>\n",
       "      <th>Student_Id</th>\n",
       "      <th>AS_Values</th>\n",
       "      <th>Student_Id</th>\n",
       "      <th>A2_Values</th>\n",
       "    </tr>\n",
       "  </thead>\n",
       "  <tbody>\n",
       "    <tr>\n",
       "      <th>0</th>\n",
       "      <td>2598.0</td>\n",
       "      <td>294.0</td>\n",
       "      <td>2598</td>\n",
       "      <td>589</td>\n",
       "    </tr>\n",
       "    <tr>\n",
       "      <th>1</th>\n",
       "      <td>2544.0</td>\n",
       "      <td>295.0</td>\n",
       "      <td>2544</td>\n",
       "      <td>573</td>\n",
       "    </tr>\n",
       "    <tr>\n",
       "      <th>2</th>\n",
       "      <td>2592.0</td>\n",
       "      <td>287.0</td>\n",
       "      <td>2592</td>\n",
       "      <td>573</td>\n",
       "    </tr>\n",
       "    <tr>\n",
       "      <th>3</th>\n",
       "      <td>2619.0</td>\n",
       "      <td>278.0</td>\n",
       "      <td>2619</td>\n",
       "      <td>570</td>\n",
       "    </tr>\n",
       "    <tr>\n",
       "      <th>4</th>\n",
       "      <td>2582.0</td>\n",
       "      <td>296.0</td>\n",
       "      <td>2582</td>\n",
       "      <td>565</td>\n",
       "    </tr>\n",
       "  </tbody>\n",
       "</table>\n",
       "</div>"
      ],
      "text/plain": [
       "   Student_Id  AS_Values  Student_Id  A2_Values\n",
       "0      2598.0      294.0        2598        589\n",
       "1      2544.0      295.0        2544        573\n",
       "2      2592.0      287.0        2592        573\n",
       "3      2619.0      278.0        2619        570\n",
       "4      2582.0      296.0        2582        565"
      ]
     },
     "execution_count": 16,
     "metadata": {},
     "output_type": "execute_result"
    }
   ],
   "source": [
    "df_col_merged =pd.concat([df_as_new, df_a2_new], axis=1)\n",
    "df_col_merged.head()"
   ]
  },
  {
   "cell_type": "code",
   "execution_count": 17,
   "metadata": {},
   "outputs": [
    {
     "data": {
      "text/plain": [
       "(72, 4)"
      ]
     },
     "execution_count": 17,
     "metadata": {},
     "output_type": "execute_result"
    }
   ],
   "source": [
    "df_col_merged.shape"
   ]
  },
  {
   "cell_type": "markdown",
   "metadata": {},
   "source": [
    "But wait I errased AS_Values row 14 when I was cleaning the data. Lets take a look at that column and see what has happened.\n"
   ]
  },
  {
   "cell_type": "code",
   "execution_count": 18,
   "metadata": {},
   "outputs": [
    {
     "data": {
      "text/html": [
       "<div>\n",
       "<style scoped>\n",
       "    .dataframe tbody tr th:only-of-type {\n",
       "        vertical-align: middle;\n",
       "    }\n",
       "\n",
       "    .dataframe tbody tr th {\n",
       "        vertical-align: top;\n",
       "    }\n",
       "\n",
       "    .dataframe thead th {\n",
       "        text-align: right;\n",
       "    }\n",
       "</style>\n",
       "<table border=\"1\" class=\"dataframe\">\n",
       "  <thead>\n",
       "    <tr style=\"text-align: right;\">\n",
       "      <th></th>\n",
       "      <th>Student_Id</th>\n",
       "      <th>AS_Values</th>\n",
       "      <th>Student_Id</th>\n",
       "      <th>A2_Values</th>\n",
       "    </tr>\n",
       "  </thead>\n",
       "  <tbody>\n",
       "    <tr>\n",
       "      <th>12</th>\n",
       "      <td>2478.0</td>\n",
       "      <td>264.0</td>\n",
       "      <td>2478</td>\n",
       "      <td>538</td>\n",
       "    </tr>\n",
       "    <tr>\n",
       "      <th>13</th>\n",
       "      <td>2537.0</td>\n",
       "      <td>277.0</td>\n",
       "      <td>2537</td>\n",
       "      <td>535</td>\n",
       "    </tr>\n",
       "    <tr>\n",
       "      <th>14</th>\n",
       "      <td>NaN</td>\n",
       "      <td>NaN</td>\n",
       "      <td>3714</td>\n",
       "      <td>534</td>\n",
       "    </tr>\n",
       "    <tr>\n",
       "      <th>15</th>\n",
       "      <td>2419.0</td>\n",
       "      <td>264.0</td>\n",
       "      <td>2419</td>\n",
       "      <td>532</td>\n",
       "    </tr>\n",
       "    <tr>\n",
       "      <th>16</th>\n",
       "      <td>2536.0</td>\n",
       "      <td>283.0</td>\n",
       "      <td>2536</td>\n",
       "      <td>528</td>\n",
       "    </tr>\n",
       "  </tbody>\n",
       "</table>\n",
       "</div>"
      ],
      "text/plain": [
       "    Student_Id  AS_Values  Student_Id  A2_Values\n",
       "12      2478.0      264.0        2478        538\n",
       "13      2537.0      277.0        2537        535\n",
       "14         NaN        NaN        3714        534\n",
       "15      2419.0      264.0        2419        532\n",
       "16      2536.0      283.0        2536        528"
      ]
     },
     "execution_count": 18,
     "metadata": {},
     "output_type": "execute_result"
    }
   ],
   "source": [
    "df_col_merged.loc[12:16]"
   ]
  },
  {
   "cell_type": "markdown",
   "metadata": {},
   "source": [
    "We can see now that there is an NaN for AS_Values and the first Student_Id but the other row have matched up.  Let's drop the 14th row again and also get rid of the second Student_Id"
   ]
  },
  {
   "cell_type": "code",
   "execution_count": 19,
   "metadata": {},
   "outputs": [
    {
     "data": {
      "text/html": [
       "<div>\n",
       "<style scoped>\n",
       "    .dataframe tbody tr th:only-of-type {\n",
       "        vertical-align: middle;\n",
       "    }\n",
       "\n",
       "    .dataframe tbody tr th {\n",
       "        vertical-align: top;\n",
       "    }\n",
       "\n",
       "    .dataframe thead th {\n",
       "        text-align: right;\n",
       "    }\n",
       "</style>\n",
       "<table border=\"1\" class=\"dataframe\">\n",
       "  <thead>\n",
       "    <tr style=\"text-align: right;\">\n",
       "      <th></th>\n",
       "      <th>Student_Id</th>\n",
       "      <th>AS_Values</th>\n",
       "      <th>Student_Id</th>\n",
       "      <th>A2_Values</th>\n",
       "    </tr>\n",
       "  </thead>\n",
       "  <tbody>\n",
       "    <tr>\n",
       "      <th>12</th>\n",
       "      <td>2478.0</td>\n",
       "      <td>264.0</td>\n",
       "      <td>2478</td>\n",
       "      <td>538</td>\n",
       "    </tr>\n",
       "    <tr>\n",
       "      <th>13</th>\n",
       "      <td>2537.0</td>\n",
       "      <td>277.0</td>\n",
       "      <td>2537</td>\n",
       "      <td>535</td>\n",
       "    </tr>\n",
       "    <tr>\n",
       "      <th>15</th>\n",
       "      <td>2419.0</td>\n",
       "      <td>264.0</td>\n",
       "      <td>2419</td>\n",
       "      <td>532</td>\n",
       "    </tr>\n",
       "    <tr>\n",
       "      <th>16</th>\n",
       "      <td>2536.0</td>\n",
       "      <td>283.0</td>\n",
       "      <td>2536</td>\n",
       "      <td>528</td>\n",
       "    </tr>\n",
       "  </tbody>\n",
       "</table>\n",
       "</div>"
      ],
      "text/plain": [
       "    Student_Id  AS_Values  Student_Id  A2_Values\n",
       "12      2478.0      264.0        2478        538\n",
       "13      2537.0      277.0        2537        535\n",
       "15      2419.0      264.0        2419        532\n",
       "16      2536.0      283.0        2536        528"
      ]
     },
     "execution_count": 19,
     "metadata": {},
     "output_type": "execute_result"
    }
   ],
   "source": [
    "df_cleaned = df_col_merged.drop(df_col_merged.index[14])\n",
    "df_cleaned.loc[12:16]"
   ]
  },
  {
   "cell_type": "code",
   "execution_count": 20,
   "metadata": {},
   "outputs": [
    {
     "data": {
      "text/html": [
       "<div>\n",
       "<style scoped>\n",
       "    .dataframe tbody tr th:only-of-type {\n",
       "        vertical-align: middle;\n",
       "    }\n",
       "\n",
       "    .dataframe tbody tr th {\n",
       "        vertical-align: top;\n",
       "    }\n",
       "\n",
       "    .dataframe thead th {\n",
       "        text-align: right;\n",
       "    }\n",
       "</style>\n",
       "<table border=\"1\" class=\"dataframe\">\n",
       "  <thead>\n",
       "    <tr style=\"text-align: right;\">\n",
       "      <th></th>\n",
       "      <th>Student_Id</th>\n",
       "      <th>AS_Values</th>\n",
       "      <th>A2_Values</th>\n",
       "    </tr>\n",
       "  </thead>\n",
       "  <tbody>\n",
       "    <tr>\n",
       "      <th>12</th>\n",
       "      <td>2478.0</td>\n",
       "      <td>264.0</td>\n",
       "      <td>538.0</td>\n",
       "    </tr>\n",
       "    <tr>\n",
       "      <th>13</th>\n",
       "      <td>2537.0</td>\n",
       "      <td>277.0</td>\n",
       "      <td>535.0</td>\n",
       "    </tr>\n",
       "    <tr>\n",
       "      <th>15</th>\n",
       "      <td>2419.0</td>\n",
       "      <td>264.0</td>\n",
       "      <td>532.0</td>\n",
       "    </tr>\n",
       "    <tr>\n",
       "      <th>16</th>\n",
       "      <td>2536.0</td>\n",
       "      <td>283.0</td>\n",
       "      <td>528.0</td>\n",
       "    </tr>\n",
       "  </tbody>\n",
       "</table>\n",
       "</div>"
      ],
      "text/plain": [
       "    Student_Id  AS_Values  A2_Values\n",
       "12      2478.0      264.0      538.0\n",
       "13      2537.0      277.0      535.0\n",
       "15      2419.0      264.0      532.0\n",
       "16      2536.0      283.0      528.0"
      ]
     },
     "execution_count": 20,
     "metadata": {},
     "output_type": "execute_result"
    }
   ],
   "source": [
    "df_cleaned =df_cleaned.T.drop_duplicates().T\n",
    "df_cleaned.loc[12:16]"
   ]
  },
  {
   "cell_type": "markdown",
   "metadata": {},
   "source": [
    "as we can see we still have all the corresponding values matching up but now we don't have Student_Id twice"
   ]
  },
  {
   "cell_type": "raw",
   "metadata": {},
   "source": [
    "All of this can be done is a simpler way using the equivalent of a vlookup in excel.  Here is the code\n",
    "\n",
    "3  df1 = pd.read_excel('vlookup_pandas.xlsx',sheet_name='Table1') \n",
    "4  df2 = pd.read_excel('vlookup_pandas.xlsx',sheet_name='Table2') \n",
    "5  results=df1.merge(df2,on='Name') \n"
   ]
  },
  {
   "cell_type": "markdown",
   "metadata": {},
   "source": [
    "# A few graphs\n",
    "\n",
    "Lets have a look at a couple of graphs to see what our data looks like.\n",
    "\n",
    "This is always a good idea.  If our data is normally distributed (or approximately) we can make assumptions about our data and then find means, confidence intervals and perform hypothesis tests which is the basics of data analysis.\n",
    "\n",
    "We can also see if our data is suitable for a regression analysis (in other words if it is correlated).  Just remember, correlation does not mean causation and industry sector specialisation will help with avoiding making spurious correlations.\n",
    "\n",
    "Check out this link for some spurious correlations...certainly improved my day.\n",
    "\n",
    "http://www.tylervigen.com/spurious-correlations\n",
    "\n",
    "\n"
   ]
  },
  {
   "cell_type": "markdown",
   "metadata": {},
   "source": [
    "### Histogram\n",
    "\n",
    "Lets use seaborn and put some plots in to have a look at both sets of data.  You can find all the different meanings for things like \"notebook\" and \"whitegrid\" on this link\n",
    "\n",
    "https://seaborn.pydata.org/tutorial/aesthetics.html\n"
   ]
  },
  {
   "cell_type": "code",
   "execution_count": 21,
   "metadata": {},
   "outputs": [
    {
     "name": "stdout",
     "output_type": "stream",
     "text": [
      "237.67605633802816 237.67605633802816 243.0\n"
     ]
    },
    {
     "data": {
      "image/png": "[encoded data removed]",
      "text/plain": [
       "<Figure size 432x288 with 1 Axes>"
      ]
     },
     "metadata": {},
     "output_type": "display_data"
    }
   ],
   "source": [
    "#Setting out the column name and data frame name will keep you code dry here.\n",
    "df_name = df_cleaned\n",
    "#I tried to set out column_name here to take values to I didn't have to change it in each plot\n",
    "#but I couldn't get it to work\n",
    "\n",
    "#column_name = AS_Values\n",
    "\n",
    "sns.set_context(\"notebook\")\n",
    "mean_column= df_name.AS_Values.mean()\n",
    "#make some adjustments to the subplot spacing\n",
    "\n",
    "#you can get means and medians in different ways\n",
    "print (mean_column, np.mean(df_name.AS_Values), df_name.AS_Values.median())\n",
    "with sns.axes_style(\"whitegrid\"):\n",
    "    df_name.AS_Values.hist(bins=30, alpha=0.4);\n",
    "    plt.plot()\n",
    "    plt.axvline(mean_column, 0, 0.75, color='r', label='Mean')\n",
    "    #plt.ylim(0, 8) added these in for future reference\n",
    "    #plt.xlim(300, 600)\n",
    "    plt.xlabel(\"AS_Values\")\n",
    "    plt.ylabel(\"Counts\")\n",
    "    plt.title(\"AS Histogram\")\n",
    "    plt.legend()\n",
    "    #sns.despine()\n",
    "    "
   ]
  },
  {
   "cell_type": "code",
   "execution_count": 22,
   "metadata": {},
   "outputs": [
    {
     "name": "stdout",
     "output_type": "stream",
     "text": [
      "468.80281690140845 468.80281690140845 489.0\n"
     ]
    },
    {
     "data": {
      "image/png": "[encoded data removed]",
      "text/plain": [
       "<Figure size 432x288 with 1 Axes>"
      ]
     },
     "metadata": {},
     "output_type": "display_data"
    }
   ],
   "source": [
    "#Setting out the column name and data frame name will keep you code dry here.\n",
    "df_name = df_cleaned\n",
    "#column_name = A2_Values\n",
    "\n",
    "sns.set_context(\"notebook\")\n",
    "mean_column=df_name.A2_Values.mean()\n",
    "#you can get means and medians in different ways\n",
    "print (mean_column, np.mean(df_name.A2_Values), df_name.A2_Values.median())\n",
    "with sns.axes_style(\"whitegrid\"):\n",
    "    df_name.A2_Values.hist(bins=30, alpha=0.4);\n",
    "    plt.plot()\n",
    "    plt.axvline(mean_column, 0, 0.75, color='r', label='Mean')\n",
    "    #axes.set_ylim([ymin,20])\n",
    "    #plt.ylim(0, 8)\n",
    "    #plt.xlim(300, 600)\n",
    "    plt.xlabel(\"A2_Values\")\n",
    "    plt.ylabel(\"Counts\")\n",
    "    plt.title(\"A2 Histogram\")\n",
    "    plt.legend()\n",
    "    #sns.despine()"
   ]
  },
  {
   "cell_type": "markdown",
   "metadata": {},
   "source": [
    "It not surprising that this does not produce a very nice histogram.  With only 71 data points and the information only taken over one year there is a great  deal of spread about the data.\n",
    "\n"
   ]
  },
  {
   "cell_type": "markdown",
   "metadata": {},
   "source": [
    "### Scatter plot\n",
    "\n",
    "Here we can plot the AS_Values against the A2_Values to see if there is a correlation"
   ]
  },
  {
   "cell_type": "code",
   "execution_count": 23,
   "metadata": {},
   "outputs": [
    {
     "data": {
      "text/plain": [
       "Text(0,0.5,'A2_Values')"
      ]
     },
     "execution_count": 23,
     "metadata": {},
     "output_type": "execute_result"
    },
    {
     "data": {
      "image/png": "[encoded data removed]",
      "text/plain": [
       "<Figure size 432x288 with 1 Axes>"
      ]
     },
     "metadata": {},
     "output_type": "display_data"
    }
   ],
   "source": [
    "plt.scatter(df_cleaned.AS_Values, df_cleaned.A2_Values)\n",
    "#plt.xlim([1900,2010]) we don't need a data limit here but this is how you add one.\n",
    "plt.xlabel(\"AS_Values\")\n",
    "plt.ylabel(\"A2_Values\")\n"
   ]
  },
  {
   "cell_type": "markdown",
   "metadata": {},
   "source": [
    "Lets get rid of some of the graph noise to make it a little easier to look at."
   ]
  },
  {
   "cell_type": "code",
   "execution_count": 24,
   "metadata": {},
   "outputs": [],
   "source": [
    "def remove_border(axes=None, top=False, right=False, left=True, bottom=True):\n",
    "    \"\"\"\n",
    "    Minimize chartjunk by stripping out unnecesasry plot borders and axis ticks\n",
    "    \n",
    "    The top/right/left/bottom keywords toggle whether the corresponding plot border is drawn\n",
    "    \"\"\"\n",
    "    ax = axes or plt.gca()\n",
    "    ax.spines['top'].set_visible(top)\n",
    "    ax.spines['right'].set_visible(right)\n",
    "    ax.spines['left'].set_visible(left)\n",
    "    ax.spines['bottom'].set_visible(bottom)\n",
    "    \n",
    "    #turn off all ticks\n",
    "    ax.yaxis.set_ticks_position('none')\n",
    "    ax.xaxis.set_ticks_position('none')\n",
    "    \n",
    "    #now re-enable visibles\n",
    "    if top:\n",
    "        ax.xaxis.tick_top()\n",
    "    if bottom:\n",
    "        ax.xaxis.tick_bottom()\n",
    "    if left:\n",
    "        ax.yaxis.tick_left()\n",
    "    if right:\n",
    "        ax.yaxis.tick_right()"
   ]
  },
  {
   "cell_type": "code",
   "execution_count": 25,
   "metadata": {},
   "outputs": [
    {
     "data": {
      "image/png": "[encoded data removed]",
      "text/plain": [
       "<Figure size 432x288 with 1 Axes>"
      ]
     },
     "metadata": {},
     "output_type": "display_data"
    }
   ],
   "source": [
    "plt.scatter(df_cleaned.AS_Values, df_cleaned.A2_Values)\n",
    "#plt.xlim([1900,2010]) we don't need a data limit here but this is how you add one.\n",
    "plt.xlabel(\"AS_Values\")\n",
    "plt.ylabel(\"A2_Values\")\n",
    "plt.title(\"AS vs A2 Scatter\")\n",
    "remove_border()"
   ]
  },
  {
   "cell_type": "markdown",
   "metadata": {},
   "source": [
    "It looks like there is a pretty strong positive corelation here.  The next thing to do is go and run a basic linear regression model which we can talk about in the next section."
   ]
  },
  {
   "cell_type": "markdown",
   "metadata": {},
   "source": [
    "## Linear regression\n",
    "\n",
    "Now lets take a look at the regression coefficients and regression line."
   ]
  },
  {
   "cell_type": "markdown",
   "metadata": {},
   "source": [
    "There are a bunch of ways to complete a linear regression.  Probably the most popular way is to use Scikit-learn but if you'd like to know more there are 8 popular ways on this website all with different memory alloactions, the most cost effective being the matrix algebra method but you need to know a little matrix algebra to make it work.\n",
    "\n",
    "https://medium.freecodecamp.org/data-science-with-python-8-ways-to-do-linear-regression-and-measure-their-speed-b5577d75f8b\n",
    "\n",
    "Also, just typing linear regression in python into google will get you started. A great github page with all the code you could need is just here below.  It's kind of the users guild to Machine Learning both unsupervised and supervised.\n",
    "\n",
    "http://www.math.unipd.it/~aiolli/corsi/1213/aa/user_guide-0.12-git.pdf\n",
    "\n",
    "The post below is an adaptation from this page which does a better job of defining all the variables needed and adding a useful scatter plot at the end.\n",
    "\n",
    "I'll post the liner regression section so you can see what they do then show you how I can adapt their code to make my regression work.\n",
    "\n",
    "## Tips and tricks\n",
    "\n",
    "the code \n",
    "diabetes_X = diabetes.data[:, np.newaxis, 2]\n",
    "reduces the size of the diabetes_X from (20,10) to (20,1) which is needed for plotting\n",
    "\n",
    "\n"
   ]
  },
  {
   "cell_type": "code",
   "execution_count": 39,
   "metadata": {},
   "outputs": [
    {
     "name": "stdout",
     "output_type": "stream",
     "text": [
      "Automatically created module for IPython interactive environment\n",
      "Coefficients: \n",
      " [938.23786125]\n",
      "Mean squared error: 2548.07\n",
      "Variance score: 0.47\n"
     ]
    },
    {
     "data": {
      "image/png": "[encoded data removed]",
      "text/plain": [
       "<Figure size 432x288 with 1 Axes>"
      ]
     },
     "metadata": {},
     "output_type": "display_data"
    }
   ],
   "source": [
    "print(__doc__)\n",
    "\n",
    "\n",
    "# Code source: Jaques Grobler\n",
    "# License: BSD 3 clause\n",
    "\n",
    "\n",
    "import matplotlib.pyplot as plt\n",
    "import numpy as np\n",
    "from sklearn import datasets, linear_model\n",
    "from sklearn.metrics import mean_squared_error, r2_score\n",
    "\n",
    "# Load the diabetes dataset\n",
    "diabetes = datasets.load_diabetes()\n",
    "\n",
    "\n",
    "# Use only one feature\n",
    "diabetes_X = diabetes.data[:, np.newaxis, 2]\n",
    "\n",
    "# Split the data into training/testing sets\n",
    "diabetes_X_train = diabetes_X[:-20]\n",
    "diabetes_X_test = diabetes_X[-20:]\n",
    "\n",
    "# Split the targets into training/testing sets\n",
    "diabetes_y_train = diabetes.target[:-20]\n",
    "diabetes_y_test = diabetes.target[-20:]\n",
    "\n",
    "# Create linear regression object\n",
    "regr = linear_model.LinearRegression()\n",
    "\n",
    "# Train the model using the training sets\n",
    "regr.fit(diabetes_X_train, diabetes_y_train)\n",
    "\n",
    "# Make predictions using the testing set\n",
    "diabetes_y_pred = regr.predict(diabetes_X_test)\n",
    "\n",
    "# The coefficients\n",
    "print('Coefficients: \\n', regr.coef_)\n",
    "# The mean squared error\n",
    "print(\"Mean squared error: %.2f\"\n",
    "      % mean_squared_error(diabetes_y_test, diabetes_y_pred))\n",
    "# Explained variance score: 1 is perfect prediction\n",
    "print('Variance score: %.2f' % r2_score(diabetes_y_test, diabetes_y_pred))\n",
    "\n",
    "# Plot outputs\n",
    "plt.scatter(diabetes_X_test, diabetes_y_test,  color='black')\n",
    "plt.plot(diabetes_X_test, diabetes_y_pred, color='blue', linewidth=3)\n",
    "\n",
    "plt.xticks(())\n",
    "plt.yticks(())\n",
    "\n",
    "plt.show()\n"
   ]
  },
  {
   "cell_type": "markdown",
   "metadata": {},
   "source": [
    "Okay so here is and adaptation for our data on pupil outcomes"
   ]
  },
  {
   "cell_type": "code",
   "execution_count": 40,
   "metadata": {},
   "outputs": [
    {
     "name": "stdout",
     "output_type": "stream",
     "text": [
      "(71, 3)\n"
     ]
    }
   ],
   "source": [
    "print (df_cleaned.shape)"
   ]
  },
  {
   "cell_type": "code",
   "execution_count": 32,
   "metadata": {},
   "outputs": [
    {
     "name": "stdout",
     "output_type": "stream",
     "text": [
      "Coefficients: \n",
      " [[1.68335255]]\n",
      "Mean squared error: 909.01\n",
      "R Squared: 0.75\n",
      "Regression score: 0.75\n"
     ]
    },
    {
     "data": {
      "image/png": "[encoded data removed]",
      "text/plain": [
       "<Figure size 432x288 with 1 Axes>"
      ]
     },
     "metadata": {},
     "output_type": "display_data"
    }
   ],
   "source": [
    "import matplotlib.pyplot as plt\n",
    "import numpy as np\n",
    "from sklearn import datasets, linear_model\n",
    "from sklearn.metrics import mean_squared_error, r2_score\n",
    "\n",
    "# Load the diabetes dataset\n",
    "#diabetes = datasets.load_diabetes() we don't need this data set to load\n",
    "\n",
    "#sort the df_clean into order by student_id so it isn't in order by A2_Value\n",
    "#If i don't do this I will only choose the bottom values as test and it will completely skew my results.\n",
    "df_cleaned = df_cleaned.sort_values(df_cleaned.columns[0])\n",
    "\n",
    "# Use only one feature\n",
    "AS_Values = df_cleaned.iloc[:,1]\n",
    "A2_Values = df_cleaned.iloc[:,2]\n",
    "\n",
    "#I then turn my AS and A2 values into data frames to avoid dimensionality problems \n",
    "#If i don't do this python will think they are arrays and return a 2D not 1D error\n",
    "#Hash this out and try it\n",
    "AS_Values = pd.DataFrame(AS_Values)\n",
    "A2_Values = pd.DataFrame(A2_Values)\n",
    "\n",
    "\n",
    "\n",
    "# Split the data into training/testing sets\n",
    "AS_Values_X_train = AS_Values[:-20]\n",
    "AS_Values_X_test = AS_Values[-20:]\n",
    "\n",
    "# Split the targets into training/testing sets\n",
    "A2_Values_y_train = A2_Values[:-20]\n",
    "A2_Values_y_test = A2_Values[-20:]\n",
    "\n",
    "# Create linear regression object\n",
    "regr = linear_model.LinearRegression()\n",
    "\n",
    "# Train the model using the training sets\n",
    "regr.fit(AS_Values_X_train, A2_Values_y_train)\n",
    "\n",
    "# Make predictions using the testing set\n",
    "AS_Values_y_pred = regr.predict(AS_Values_X_test)\n",
    "\n",
    "# The coefficients\n",
    "print('Coefficients: \\n', regr.coef_)\n",
    "# The mean squared error\n",
    "print(\"Mean squared error: %.2f\"\n",
    "      % mean_squared_error(A2_Values_y_test, AS_Values_y_pred))\n",
    "# Explained variance score: 1 is perfect prediction\n",
    "print('R Squared: %.2f' % r2_score(A2_Values_y_test, AS_Values_y_pred))\n",
    "\n",
    "#add in a regression score just to see what this produces.  Looks like it's the same as r^2\n",
    "print (\"Regression score: %.2f\" %regr.score(AS_Values_X_test,A2_Values_y_test))\n",
    "\n",
    "# Plot outputs\n",
    "plt.scatter(AS_Values_X_test, A2_Values_y_test,  color='black')\n",
    "plt.plot(AS_Values_X_test, AS_Values_y_pred, color='blue', linewidth=3)\n",
    "plt.xlabel(\"AS_Values\")\n",
    "plt.ylabel(\"A2_Values\")\n",
    "plt.title(\"Test with regression line\")\n",
    "remove_border()\n"
   ]
  },
  {
   "cell_type": "markdown",
   "metadata": {},
   "source": [
    "this is producing a pretty good R squared value.  This is pretty much all that can be done here. The next thing to do is to move onto a multi-variable linear regression but hat will be in the next notebook.\n",
    "\n",
    "Also, some documentation on some of the same manipulations done here will be conducted in SQL for completeness."
   ]
  },
  {
   "cell_type": "code",
   "execution_count": null,
   "metadata": {},
   "outputs": [],
   "source": []
  }
 ],
 "metadata": {
  "kernelspec": {
   "display_name": "Python 3",
   "language": "python",
   "name": "python3"
  },
  "language_info": {
   "codemirror_mode": {
    "name": "ipython",
    "version": 3
   },
   "file_extension": ".py",
   "mimetype": "text/x-python",
   "name": "python",
   "nbconvert_exporter": "python",
   "pygments_lexer": "ipython3",
   "version": "3.6.5"
  }
 },
 "nbformat": 4,
 "nbformat_minor": 2
}
